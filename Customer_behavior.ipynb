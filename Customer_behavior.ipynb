{
  "nbformat": 4,
  "nbformat_minor": 0,
  "metadata": {
    "colab": {
      "provenance": []
    },
    "kernelspec": {
      "name": "python3",
      "display_name": "Python 3"
    },
    "language_info": {
      "name": "python"
    }
  },
  "cells": [
    {
      "cell_type": "code",
      "execution_count": null,
      "metadata": {
        "id": "8-F69j4Y4QQd"
      },
      "outputs": [],
      "source": [
        "import pandas as pd\n",
        "import numpy as np"
      ]
    },
    {
      "cell_type": "code",
      "source": [
        "data=pd.read_csv('/content/purchase_history.csv')"
      ],
      "metadata": {
        "id": "XFw0mTRDu7Wq"
      },
      "execution_count": null,
      "outputs": []
    },
    {
      "cell_type": "code",
      "source": [
        "data"
      ],
      "metadata": {
        "colab": {
          "base_uri": "https://localhost:8080/",
          "height": 424
        },
        "id": "GXouRignvKlv",
        "outputId": "9e38e21c-2424-407e-fe09-4921c0ae53a3"
      },
      "execution_count": null,
      "outputs": [
        {
          "output_type": "execute_result",
          "data": {
            "text/plain": [
              "     Customer ID  Gender  Age  Salary Product ID  Price  Purchased\n",
              "0              1  Female   49   61000        P01   2000          1\n",
              "1              2    Male   36   30000        P02   2000          1\n",
              "2              3  Female   26   81000        P02   3500          1\n",
              "3              4  Female   32   74000        P01   7000          0\n",
              "4              5  Female   42   56000        P01   5000          0\n",
              "..           ...     ...  ...     ...        ...    ...        ...\n",
              "995          996    Male   21   73000        P02   5000          1\n",
              "996          997    Male   62   54000        P01   5000          0\n",
              "997          998  Female   41   20000        P03   2000          0\n",
              "998          999    Male   22   29000        P03   5000          0\n",
              "999         1000  Female   49   36000        P03   3500          0\n",
              "\n",
              "[1000 rows x 7 columns]"
            ],
            "text/html": [
              "\n",
              "  <div id=\"df-79cf2aa8-6d36-47a1-85d9-41966dca300a\" class=\"colab-df-container\">\n",
              "    <div>\n",
              "<style scoped>\n",
              "    .dataframe tbody tr th:only-of-type {\n",
              "        vertical-align: middle;\n",
              "    }\n",
              "\n",
              "    .dataframe tbody tr th {\n",
              "        vertical-align: top;\n",
              "    }\n",
              "\n",
              "    .dataframe thead th {\n",
              "        text-align: right;\n",
              "    }\n",
              "</style>\n",
              "<table border=\"1\" class=\"dataframe\">\n",
              "  <thead>\n",
              "    <tr style=\"text-align: right;\">\n",
              "      <th></th>\n",
              "      <th>Customer ID</th>\n",
              "      <th>Gender</th>\n",
              "      <th>Age</th>\n",
              "      <th>Salary</th>\n",
              "      <th>Product ID</th>\n",
              "      <th>Price</th>\n",
              "      <th>Purchased</th>\n",
              "    </tr>\n",
              "  </thead>\n",
              "  <tbody>\n",
              "    <tr>\n",
              "      <th>0</th>\n",
              "      <td>1</td>\n",
              "      <td>Female</td>\n",
              "      <td>49</td>\n",
              "      <td>61000</td>\n",
              "      <td>P01</td>\n",
              "      <td>2000</td>\n",
              "      <td>1</td>\n",
              "    </tr>\n",
              "    <tr>\n",
              "      <th>1</th>\n",
              "      <td>2</td>\n",
              "      <td>Male</td>\n",
              "      <td>36</td>\n",
              "      <td>30000</td>\n",
              "      <td>P02</td>\n",
              "      <td>2000</td>\n",
              "      <td>1</td>\n",
              "    </tr>\n",
              "    <tr>\n",
              "      <th>2</th>\n",
              "      <td>3</td>\n",
              "      <td>Female</td>\n",
              "      <td>26</td>\n",
              "      <td>81000</td>\n",
              "      <td>P02</td>\n",
              "      <td>3500</td>\n",
              "      <td>1</td>\n",
              "    </tr>\n",
              "    <tr>\n",
              "      <th>3</th>\n",
              "      <td>4</td>\n",
              "      <td>Female</td>\n",
              "      <td>32</td>\n",
              "      <td>74000</td>\n",
              "      <td>P01</td>\n",
              "      <td>7000</td>\n",
              "      <td>0</td>\n",
              "    </tr>\n",
              "    <tr>\n",
              "      <th>4</th>\n",
              "      <td>5</td>\n",
              "      <td>Female</td>\n",
              "      <td>42</td>\n",
              "      <td>56000</td>\n",
              "      <td>P01</td>\n",
              "      <td>5000</td>\n",
              "      <td>0</td>\n",
              "    </tr>\n",
              "    <tr>\n",
              "      <th>...</th>\n",
              "      <td>...</td>\n",
              "      <td>...</td>\n",
              "      <td>...</td>\n",
              "      <td>...</td>\n",
              "      <td>...</td>\n",
              "      <td>...</td>\n",
              "      <td>...</td>\n",
              "    </tr>\n",
              "    <tr>\n",
              "      <th>995</th>\n",
              "      <td>996</td>\n",
              "      <td>Male</td>\n",
              "      <td>21</td>\n",
              "      <td>73000</td>\n",
              "      <td>P02</td>\n",
              "      <td>5000</td>\n",
              "      <td>1</td>\n",
              "    </tr>\n",
              "    <tr>\n",
              "      <th>996</th>\n",
              "      <td>997</td>\n",
              "      <td>Male</td>\n",
              "      <td>62</td>\n",
              "      <td>54000</td>\n",
              "      <td>P01</td>\n",
              "      <td>5000</td>\n",
              "      <td>0</td>\n",
              "    </tr>\n",
              "    <tr>\n",
              "      <th>997</th>\n",
              "      <td>998</td>\n",
              "      <td>Female</td>\n",
              "      <td>41</td>\n",
              "      <td>20000</td>\n",
              "      <td>P03</td>\n",
              "      <td>2000</td>\n",
              "      <td>0</td>\n",
              "    </tr>\n",
              "    <tr>\n",
              "      <th>998</th>\n",
              "      <td>999</td>\n",
              "      <td>Male</td>\n",
              "      <td>22</td>\n",
              "      <td>29000</td>\n",
              "      <td>P03</td>\n",
              "      <td>5000</td>\n",
              "      <td>0</td>\n",
              "    </tr>\n",
              "    <tr>\n",
              "      <th>999</th>\n",
              "      <td>1000</td>\n",
              "      <td>Female</td>\n",
              "      <td>49</td>\n",
              "      <td>36000</td>\n",
              "      <td>P03</td>\n",
              "      <td>3500</td>\n",
              "      <td>0</td>\n",
              "    </tr>\n",
              "  </tbody>\n",
              "</table>\n",
              "<p>1000 rows × 7 columns</p>\n",
              "</div>\n",
              "    <div class=\"colab-df-buttons\">\n",
              "\n",
              "  <div class=\"colab-df-container\">\n",
              "    <button class=\"colab-df-convert\" onclick=\"convertToInteractive('df-79cf2aa8-6d36-47a1-85d9-41966dca300a')\"\n",
              "            title=\"Convert this dataframe to an interactive table.\"\n",
              "            style=\"display:none;\">\n",
              "\n",
              "  <svg xmlns=\"http://www.w3.org/2000/svg\" height=\"24px\" viewBox=\"0 -960 960 960\">\n",
              "    <path d=\"M120-120v-720h720v720H120Zm60-500h600v-160H180v160Zm220 220h160v-160H400v160Zm0 220h160v-160H400v160ZM180-400h160v-160H180v160Zm440 0h160v-160H620v160ZM180-180h160v-160H180v160Zm440 0h160v-160H620v160Z\"/>\n",
              "  </svg>\n",
              "    </button>\n",
              "\n",
              "  <style>\n",
              "    .colab-df-container {\n",
              "      display:flex;\n",
              "      gap: 12px;\n",
              "    }\n",
              "\n",
              "    .colab-df-convert {\n",
              "      background-color: #E8F0FE;\n",
              "      border: none;\n",
              "      border-radius: 50%;\n",
              "      cursor: pointer;\n",
              "      display: none;\n",
              "      fill: #1967D2;\n",
              "      height: 32px;\n",
              "      padding: 0 0 0 0;\n",
              "      width: 32px;\n",
              "    }\n",
              "\n",
              "    .colab-df-convert:hover {\n",
              "      background-color: #E2EBFA;\n",
              "      box-shadow: 0px 1px 2px rgba(60, 64, 67, 0.3), 0px 1px 3px 1px rgba(60, 64, 67, 0.15);\n",
              "      fill: #174EA6;\n",
              "    }\n",
              "\n",
              "    .colab-df-buttons div {\n",
              "      margin-bottom: 4px;\n",
              "    }\n",
              "\n",
              "    [theme=dark] .colab-df-convert {\n",
              "      background-color: #3B4455;\n",
              "      fill: #D2E3FC;\n",
              "    }\n",
              "\n",
              "    [theme=dark] .colab-df-convert:hover {\n",
              "      background-color: #434B5C;\n",
              "      box-shadow: 0px 1px 3px 1px rgba(0, 0, 0, 0.15);\n",
              "      filter: drop-shadow(0px 1px 2px rgba(0, 0, 0, 0.3));\n",
              "      fill: #FFFFFF;\n",
              "    }\n",
              "  </style>\n",
              "\n",
              "    <script>\n",
              "      const buttonEl =\n",
              "        document.querySelector('#df-79cf2aa8-6d36-47a1-85d9-41966dca300a button.colab-df-convert');\n",
              "      buttonEl.style.display =\n",
              "        google.colab.kernel.accessAllowed ? 'block' : 'none';\n",
              "\n",
              "      async function convertToInteractive(key) {\n",
              "        const element = document.querySelector('#df-79cf2aa8-6d36-47a1-85d9-41966dca300a');\n",
              "        const dataTable =\n",
              "          await google.colab.kernel.invokeFunction('convertToInteractive',\n",
              "                                                    [key], {});\n",
              "        if (!dataTable) return;\n",
              "\n",
              "        const docLinkHtml = 'Like what you see? Visit the ' +\n",
              "          '<a target=\"_blank\" href=https://colab.research.google.com/notebooks/data_table.ipynb>data table notebook</a>'\n",
              "          + ' to learn more about interactive tables.';\n",
              "        element.innerHTML = '';\n",
              "        dataTable['output_type'] = 'display_data';\n",
              "        await google.colab.output.renderOutput(dataTable, element);\n",
              "        const docLink = document.createElement('div');\n",
              "        docLink.innerHTML = docLinkHtml;\n",
              "        element.appendChild(docLink);\n",
              "      }\n",
              "    </script>\n",
              "  </div>\n",
              "\n",
              "\n",
              "<div id=\"df-e3d1b3e2-9a64-466f-b95b-e29f994f261e\">\n",
              "  <button class=\"colab-df-quickchart\" onclick=\"quickchart('df-e3d1b3e2-9a64-466f-b95b-e29f994f261e')\"\n",
              "            title=\"Suggest charts.\"\n",
              "            style=\"display:none;\">\n",
              "\n",
              "<svg xmlns=\"http://www.w3.org/2000/svg\" height=\"24px\"viewBox=\"0 0 24 24\"\n",
              "     width=\"24px\">\n",
              "    <g>\n",
              "        <path d=\"M19 3H5c-1.1 0-2 .9-2 2v14c0 1.1.9 2 2 2h14c1.1 0 2-.9 2-2V5c0-1.1-.9-2-2-2zM9 17H7v-7h2v7zm4 0h-2V7h2v10zm4 0h-2v-4h2v4z\"/>\n",
              "    </g>\n",
              "</svg>\n",
              "  </button>\n",
              "\n",
              "<style>\n",
              "  .colab-df-quickchart {\n",
              "      --bg-color: #E8F0FE;\n",
              "      --fill-color: #1967D2;\n",
              "      --hover-bg-color: #E2EBFA;\n",
              "      --hover-fill-color: #174EA6;\n",
              "      --disabled-fill-color: #AAA;\n",
              "      --disabled-bg-color: #DDD;\n",
              "  }\n",
              "\n",
              "  [theme=dark] .colab-df-quickchart {\n",
              "      --bg-color: #3B4455;\n",
              "      --fill-color: #D2E3FC;\n",
              "      --hover-bg-color: #434B5C;\n",
              "      --hover-fill-color: #FFFFFF;\n",
              "      --disabled-bg-color: #3B4455;\n",
              "      --disabled-fill-color: #666;\n",
              "  }\n",
              "\n",
              "  .colab-df-quickchart {\n",
              "    background-color: var(--bg-color);\n",
              "    border: none;\n",
              "    border-radius: 50%;\n",
              "    cursor: pointer;\n",
              "    display: none;\n",
              "    fill: var(--fill-color);\n",
              "    height: 32px;\n",
              "    padding: 0;\n",
              "    width: 32px;\n",
              "  }\n",
              "\n",
              "  .colab-df-quickchart:hover {\n",
              "    background-color: var(--hover-bg-color);\n",
              "    box-shadow: 0 1px 2px rgba(60, 64, 67, 0.3), 0 1px 3px 1px rgba(60, 64, 67, 0.15);\n",
              "    fill: var(--button-hover-fill-color);\n",
              "  }\n",
              "\n",
              "  .colab-df-quickchart-complete:disabled,\n",
              "  .colab-df-quickchart-complete:disabled:hover {\n",
              "    background-color: var(--disabled-bg-color);\n",
              "    fill: var(--disabled-fill-color);\n",
              "    box-shadow: none;\n",
              "  }\n",
              "\n",
              "  .colab-df-spinner {\n",
              "    border: 2px solid var(--fill-color);\n",
              "    border-color: transparent;\n",
              "    border-bottom-color: var(--fill-color);\n",
              "    animation:\n",
              "      spin 1s steps(1) infinite;\n",
              "  }\n",
              "\n",
              "  @keyframes spin {\n",
              "    0% {\n",
              "      border-color: transparent;\n",
              "      border-bottom-color: var(--fill-color);\n",
              "      border-left-color: var(--fill-color);\n",
              "    }\n",
              "    20% {\n",
              "      border-color: transparent;\n",
              "      border-left-color: var(--fill-color);\n",
              "      border-top-color: var(--fill-color);\n",
              "    }\n",
              "    30% {\n",
              "      border-color: transparent;\n",
              "      border-left-color: var(--fill-color);\n",
              "      border-top-color: var(--fill-color);\n",
              "      border-right-color: var(--fill-color);\n",
              "    }\n",
              "    40% {\n",
              "      border-color: transparent;\n",
              "      border-right-color: var(--fill-color);\n",
              "      border-top-color: var(--fill-color);\n",
              "    }\n",
              "    60% {\n",
              "      border-color: transparent;\n",
              "      border-right-color: var(--fill-color);\n",
              "    }\n",
              "    80% {\n",
              "      border-color: transparent;\n",
              "      border-right-color: var(--fill-color);\n",
              "      border-bottom-color: var(--fill-color);\n",
              "    }\n",
              "    90% {\n",
              "      border-color: transparent;\n",
              "      border-bottom-color: var(--fill-color);\n",
              "    }\n",
              "  }\n",
              "</style>\n",
              "\n",
              "  <script>\n",
              "    async function quickchart(key) {\n",
              "      const quickchartButtonEl =\n",
              "        document.querySelector('#' + key + ' button');\n",
              "      quickchartButtonEl.disabled = true;  // To prevent multiple clicks.\n",
              "      quickchartButtonEl.classList.add('colab-df-spinner');\n",
              "      try {\n",
              "        const charts = await google.colab.kernel.invokeFunction(\n",
              "            'suggestCharts', [key], {});\n",
              "      } catch (error) {\n",
              "        console.error('Error during call to suggestCharts:', error);\n",
              "      }\n",
              "      quickchartButtonEl.classList.remove('colab-df-spinner');\n",
              "      quickchartButtonEl.classList.add('colab-df-quickchart-complete');\n",
              "    }\n",
              "    (() => {\n",
              "      let quickchartButtonEl =\n",
              "        document.querySelector('#df-e3d1b3e2-9a64-466f-b95b-e29f994f261e button');\n",
              "      quickchartButtonEl.style.display =\n",
              "        google.colab.kernel.accessAllowed ? 'block' : 'none';\n",
              "    })();\n",
              "  </script>\n",
              "</div>\n",
              "    </div>\n",
              "  </div>\n"
            ]
          },
          "metadata": {},
          "execution_count": 3
        }
      ]
    },
    {
      "cell_type": "code",
      "source": [
        "data.info()"
      ],
      "metadata": {
        "colab": {
          "base_uri": "https://localhost:8080/"
        },
        "id": "3LqahjqgvOIn",
        "outputId": "accaf0c5-e1ba-4a39-f8ae-a785c7c089ae"
      },
      "execution_count": null,
      "outputs": [
        {
          "output_type": "stream",
          "name": "stdout",
          "text": [
            "<class 'pandas.core.frame.DataFrame'>\n",
            "RangeIndex: 1000 entries, 0 to 999\n",
            "Data columns (total 7 columns):\n",
            " #   Column       Non-Null Count  Dtype \n",
            "---  ------       --------------  ----- \n",
            " 0   Customer ID  1000 non-null   int64 \n",
            " 1   Gender       1000 non-null   object\n",
            " 2   Age          1000 non-null   int64 \n",
            " 3   Salary       1000 non-null   int64 \n",
            " 4   Product ID   1000 non-null   object\n",
            " 5   Price        1000 non-null   int64 \n",
            " 6   Purchased    1000 non-null   int64 \n",
            "dtypes: int64(5), object(2)\n",
            "memory usage: 54.8+ KB\n"
          ]
        }
      ]
    },
    {
      "cell_type": "code",
      "source": [
        "gender_encoded= pd.get_dummies(data['Gender'], drop_first= True)"
      ],
      "metadata": {
        "id": "5K73eBwlve7Q"
      },
      "execution_count": null,
      "outputs": []
    },
    {
      "cell_type": "code",
      "source": [
        "gender_encoded"
      ],
      "metadata": {
        "colab": {
          "base_uri": "https://localhost:8080/",
          "height": 424
        },
        "id": "f225e8MazpQd",
        "outputId": "c547abcc-5abb-48c6-a3a7-21086b37d6be"
      },
      "execution_count": null,
      "outputs": [
        {
          "output_type": "execute_result",
          "data": {
            "text/plain": [
              "     Male\n",
              "0       0\n",
              "1       1\n",
              "2       0\n",
              "3       0\n",
              "4       0\n",
              "..    ...\n",
              "995     1\n",
              "996     1\n",
              "997     0\n",
              "998     1\n",
              "999     0\n",
              "\n",
              "[1000 rows x 1 columns]"
            ],
            "text/html": [
              "\n",
              "  <div id=\"df-f816b1e4-26ba-43c5-a0de-8ddd5442caef\" class=\"colab-df-container\">\n",
              "    <div>\n",
              "<style scoped>\n",
              "    .dataframe tbody tr th:only-of-type {\n",
              "        vertical-align: middle;\n",
              "    }\n",
              "\n",
              "    .dataframe tbody tr th {\n",
              "        vertical-align: top;\n",
              "    }\n",
              "\n",
              "    .dataframe thead th {\n",
              "        text-align: right;\n",
              "    }\n",
              "</style>\n",
              "<table border=\"1\" class=\"dataframe\">\n",
              "  <thead>\n",
              "    <tr style=\"text-align: right;\">\n",
              "      <th></th>\n",
              "      <th>Male</th>\n",
              "    </tr>\n",
              "  </thead>\n",
              "  <tbody>\n",
              "    <tr>\n",
              "      <th>0</th>\n",
              "      <td>0</td>\n",
              "    </tr>\n",
              "    <tr>\n",
              "      <th>1</th>\n",
              "      <td>1</td>\n",
              "    </tr>\n",
              "    <tr>\n",
              "      <th>2</th>\n",
              "      <td>0</td>\n",
              "    </tr>\n",
              "    <tr>\n",
              "      <th>3</th>\n",
              "      <td>0</td>\n",
              "    </tr>\n",
              "    <tr>\n",
              "      <th>4</th>\n",
              "      <td>0</td>\n",
              "    </tr>\n",
              "    <tr>\n",
              "      <th>...</th>\n",
              "      <td>...</td>\n",
              "    </tr>\n",
              "    <tr>\n",
              "      <th>995</th>\n",
              "      <td>1</td>\n",
              "    </tr>\n",
              "    <tr>\n",
              "      <th>996</th>\n",
              "      <td>1</td>\n",
              "    </tr>\n",
              "    <tr>\n",
              "      <th>997</th>\n",
              "      <td>0</td>\n",
              "    </tr>\n",
              "    <tr>\n",
              "      <th>998</th>\n",
              "      <td>1</td>\n",
              "    </tr>\n",
              "    <tr>\n",
              "      <th>999</th>\n",
              "      <td>0</td>\n",
              "    </tr>\n",
              "  </tbody>\n",
              "</table>\n",
              "<p>1000 rows × 1 columns</p>\n",
              "</div>\n",
              "    <div class=\"colab-df-buttons\">\n",
              "\n",
              "  <div class=\"colab-df-container\">\n",
              "    <button class=\"colab-df-convert\" onclick=\"convertToInteractive('df-f816b1e4-26ba-43c5-a0de-8ddd5442caef')\"\n",
              "            title=\"Convert this dataframe to an interactive table.\"\n",
              "            style=\"display:none;\">\n",
              "\n",
              "  <svg xmlns=\"http://www.w3.org/2000/svg\" height=\"24px\" viewBox=\"0 -960 960 960\">\n",
              "    <path d=\"M120-120v-720h720v720H120Zm60-500h600v-160H180v160Zm220 220h160v-160H400v160Zm0 220h160v-160H400v160ZM180-400h160v-160H180v160Zm440 0h160v-160H620v160ZM180-180h160v-160H180v160Zm440 0h160v-160H620v160Z\"/>\n",
              "  </svg>\n",
              "    </button>\n",
              "\n",
              "  <style>\n",
              "    .colab-df-container {\n",
              "      display:flex;\n",
              "      gap: 12px;\n",
              "    }\n",
              "\n",
              "    .colab-df-convert {\n",
              "      background-color: #E8F0FE;\n",
              "      border: none;\n",
              "      border-radius: 50%;\n",
              "      cursor: pointer;\n",
              "      display: none;\n",
              "      fill: #1967D2;\n",
              "      height: 32px;\n",
              "      padding: 0 0 0 0;\n",
              "      width: 32px;\n",
              "    }\n",
              "\n",
              "    .colab-df-convert:hover {\n",
              "      background-color: #E2EBFA;\n",
              "      box-shadow: 0px 1px 2px rgba(60, 64, 67, 0.3), 0px 1px 3px 1px rgba(60, 64, 67, 0.15);\n",
              "      fill: #174EA6;\n",
              "    }\n",
              "\n",
              "    .colab-df-buttons div {\n",
              "      margin-bottom: 4px;\n",
              "    }\n",
              "\n",
              "    [theme=dark] .colab-df-convert {\n",
              "      background-color: #3B4455;\n",
              "      fill: #D2E3FC;\n",
              "    }\n",
              "\n",
              "    [theme=dark] .colab-df-convert:hover {\n",
              "      background-color: #434B5C;\n",
              "      box-shadow: 0px 1px 3px 1px rgba(0, 0, 0, 0.15);\n",
              "      filter: drop-shadow(0px 1px 2px rgba(0, 0, 0, 0.3));\n",
              "      fill: #FFFFFF;\n",
              "    }\n",
              "  </style>\n",
              "\n",
              "    <script>\n",
              "      const buttonEl =\n",
              "        document.querySelector('#df-f816b1e4-26ba-43c5-a0de-8ddd5442caef button.colab-df-convert');\n",
              "      buttonEl.style.display =\n",
              "        google.colab.kernel.accessAllowed ? 'block' : 'none';\n",
              "\n",
              "      async function convertToInteractive(key) {\n",
              "        const element = document.querySelector('#df-f816b1e4-26ba-43c5-a0de-8ddd5442caef');\n",
              "        const dataTable =\n",
              "          await google.colab.kernel.invokeFunction('convertToInteractive',\n",
              "                                                    [key], {});\n",
              "        if (!dataTable) return;\n",
              "\n",
              "        const docLinkHtml = 'Like what you see? Visit the ' +\n",
              "          '<a target=\"_blank\" href=https://colab.research.google.com/notebooks/data_table.ipynb>data table notebook</a>'\n",
              "          + ' to learn more about interactive tables.';\n",
              "        element.innerHTML = '';\n",
              "        dataTable['output_type'] = 'display_data';\n",
              "        await google.colab.output.renderOutput(dataTable, element);\n",
              "        const docLink = document.createElement('div');\n",
              "        docLink.innerHTML = docLinkHtml;\n",
              "        element.appendChild(docLink);\n",
              "      }\n",
              "    </script>\n",
              "  </div>\n",
              "\n",
              "\n",
              "<div id=\"df-0242e777-1087-44f0-baa3-d75422cd47f1\">\n",
              "  <button class=\"colab-df-quickchart\" onclick=\"quickchart('df-0242e777-1087-44f0-baa3-d75422cd47f1')\"\n",
              "            title=\"Suggest charts.\"\n",
              "            style=\"display:none;\">\n",
              "\n",
              "<svg xmlns=\"http://www.w3.org/2000/svg\" height=\"24px\"viewBox=\"0 0 24 24\"\n",
              "     width=\"24px\">\n",
              "    <g>\n",
              "        <path d=\"M19 3H5c-1.1 0-2 .9-2 2v14c0 1.1.9 2 2 2h14c1.1 0 2-.9 2-2V5c0-1.1-.9-2-2-2zM9 17H7v-7h2v7zm4 0h-2V7h2v10zm4 0h-2v-4h2v4z\"/>\n",
              "    </g>\n",
              "</svg>\n",
              "  </button>\n",
              "\n",
              "<style>\n",
              "  .colab-df-quickchart {\n",
              "      --bg-color: #E8F0FE;\n",
              "      --fill-color: #1967D2;\n",
              "      --hover-bg-color: #E2EBFA;\n",
              "      --hover-fill-color: #174EA6;\n",
              "      --disabled-fill-color: #AAA;\n",
              "      --disabled-bg-color: #DDD;\n",
              "  }\n",
              "\n",
              "  [theme=dark] .colab-df-quickchart {\n",
              "      --bg-color: #3B4455;\n",
              "      --fill-color: #D2E3FC;\n",
              "      --hover-bg-color: #434B5C;\n",
              "      --hover-fill-color: #FFFFFF;\n",
              "      --disabled-bg-color: #3B4455;\n",
              "      --disabled-fill-color: #666;\n",
              "  }\n",
              "\n",
              "  .colab-df-quickchart {\n",
              "    background-color: var(--bg-color);\n",
              "    border: none;\n",
              "    border-radius: 50%;\n",
              "    cursor: pointer;\n",
              "    display: none;\n",
              "    fill: var(--fill-color);\n",
              "    height: 32px;\n",
              "    padding: 0;\n",
              "    width: 32px;\n",
              "  }\n",
              "\n",
              "  .colab-df-quickchart:hover {\n",
              "    background-color: var(--hover-bg-color);\n",
              "    box-shadow: 0 1px 2px rgba(60, 64, 67, 0.3), 0 1px 3px 1px rgba(60, 64, 67, 0.15);\n",
              "    fill: var(--button-hover-fill-color);\n",
              "  }\n",
              "\n",
              "  .colab-df-quickchart-complete:disabled,\n",
              "  .colab-df-quickchart-complete:disabled:hover {\n",
              "    background-color: var(--disabled-bg-color);\n",
              "    fill: var(--disabled-fill-color);\n",
              "    box-shadow: none;\n",
              "  }\n",
              "\n",
              "  .colab-df-spinner {\n",
              "    border: 2px solid var(--fill-color);\n",
              "    border-color: transparent;\n",
              "    border-bottom-color: var(--fill-color);\n",
              "    animation:\n",
              "      spin 1s steps(1) infinite;\n",
              "  }\n",
              "\n",
              "  @keyframes spin {\n",
              "    0% {\n",
              "      border-color: transparent;\n",
              "      border-bottom-color: var(--fill-color);\n",
              "      border-left-color: var(--fill-color);\n",
              "    }\n",
              "    20% {\n",
              "      border-color: transparent;\n",
              "      border-left-color: var(--fill-color);\n",
              "      border-top-color: var(--fill-color);\n",
              "    }\n",
              "    30% {\n",
              "      border-color: transparent;\n",
              "      border-left-color: var(--fill-color);\n",
              "      border-top-color: var(--fill-color);\n",
              "      border-right-color: var(--fill-color);\n",
              "    }\n",
              "    40% {\n",
              "      border-color: transparent;\n",
              "      border-right-color: var(--fill-color);\n",
              "      border-top-color: var(--fill-color);\n",
              "    }\n",
              "    60% {\n",
              "      border-color: transparent;\n",
              "      border-right-color: var(--fill-color);\n",
              "    }\n",
              "    80% {\n",
              "      border-color: transparent;\n",
              "      border-right-color: var(--fill-color);\n",
              "      border-bottom-color: var(--fill-color);\n",
              "    }\n",
              "    90% {\n",
              "      border-color: transparent;\n",
              "      border-bottom-color: var(--fill-color);\n",
              "    }\n",
              "  }\n",
              "</style>\n",
              "\n",
              "  <script>\n",
              "    async function quickchart(key) {\n",
              "      const quickchartButtonEl =\n",
              "        document.querySelector('#' + key + ' button');\n",
              "      quickchartButtonEl.disabled = true;  // To prevent multiple clicks.\n",
              "      quickchartButtonEl.classList.add('colab-df-spinner');\n",
              "      try {\n",
              "        const charts = await google.colab.kernel.invokeFunction(\n",
              "            'suggestCharts', [key], {});\n",
              "      } catch (error) {\n",
              "        console.error('Error during call to suggestCharts:', error);\n",
              "      }\n",
              "      quickchartButtonEl.classList.remove('colab-df-spinner');\n",
              "      quickchartButtonEl.classList.add('colab-df-quickchart-complete');\n",
              "    }\n",
              "    (() => {\n",
              "      let quickchartButtonEl =\n",
              "        document.querySelector('#df-0242e777-1087-44f0-baa3-d75422cd47f1 button');\n",
              "      quickchartButtonEl.style.display =\n",
              "        google.colab.kernel.accessAllowed ? 'block' : 'none';\n",
              "    })();\n",
              "  </script>\n",
              "</div>\n",
              "    </div>\n",
              "  </div>\n"
            ]
          },
          "metadata": {},
          "execution_count": 6
        }
      ]
    },
    {
      "cell_type": "code",
      "source": [
        "data=pd.concat([data,gender_encoded],axis=1)"
      ],
      "metadata": {
        "id": "zHWpBZti0trj"
      },
      "execution_count": null,
      "outputs": []
    },
    {
      "cell_type": "code",
      "source": [
        "X=data[['Male', 'Age','Salary','Price']].to_numpy()"
      ],
      "metadata": {
        "id": "3-trwNXZz5iC"
      },
      "execution_count": null,
      "outputs": []
    },
    {
      "cell_type": "code",
      "source": [
        "X"
      ],
      "metadata": {
        "colab": {
          "base_uri": "https://localhost:8080/"
        },
        "id": "VspDX1nF1XyS",
        "outputId": "e2c52f35-8178-48d9-9bea-9178e759e9e6"
      },
      "execution_count": null,
      "outputs": [
        {
          "output_type": "execute_result",
          "data": {
            "text/plain": [
              "array([[    0,    49, 61000,  2000],\n",
              "       [    1,    36, 30000,  2000],\n",
              "       [    0,    26, 81000,  3500],\n",
              "       ...,\n",
              "       [    0,    41, 20000,  2000],\n",
              "       [    1,    22, 29000,  5000],\n",
              "       [    0,    49, 36000,  3500]])"
            ]
          },
          "metadata": {},
          "execution_count": 9
        }
      ]
    },
    {
      "cell_type": "code",
      "source": [
        "y=data['Purchased'].to_numpy()"
      ],
      "metadata": {
        "id": "5VKBc6aMc2IX"
      },
      "execution_count": null,
      "outputs": []
    },
    {
      "cell_type": "code",
      "source": [
        "y"
      ],
      "metadata": {
        "colab": {
          "base_uri": "https://localhost:8080/"
        },
        "id": "ZRL39Bc1eMSW",
        "outputId": "43140ef0-5fc8-485f-baa4-36479ac0af88"
      },
      "execution_count": null,
      "outputs": [
        {
          "output_type": "execute_result",
          "data": {
            "text/plain": [
              "array([1, 1, 1, 0, 0, 1, 0, 0, 0, 1, 1, 0, 0, 1, 0, 1, 0, 0, 0, 0, 0, 1,\n",
              "       0, 1, 0, 0, 0, 0, 1, 0, 1, 0, 0, 0, 1, 1, 0, 1, 0, 0, 0, 1, 1, 0,\n",
              "       0, 1, 0, 0, 0, 1, 1, 1, 0, 0, 0, 0, 0, 0, 1, 1, 0, 0, 1, 0, 0, 0,\n",
              "       1, 1, 1, 1, 1, 0, 0, 1, 1, 1, 0, 1, 0, 1, 1, 0, 1, 1, 0, 1, 1, 0,\n",
              "       0, 0, 0, 1, 1, 1, 1, 1, 0, 0, 1, 0, 0, 0, 1, 0, 0, 0, 0, 1, 0, 0,\n",
              "       0, 0, 0, 0, 0, 0, 0, 0, 1, 0, 1, 1, 0, 0, 0, 1, 0, 0, 0, 1, 1, 1,\n",
              "       0, 1, 0, 1, 0, 1, 1, 1, 0, 0, 0, 0, 1, 1, 0, 0, 0, 1, 0, 0, 0, 0,\n",
              "       0, 0, 1, 1, 0, 1, 0, 0, 1, 0, 1, 0, 0, 1, 1, 1, 0, 0, 1, 1, 0, 1,\n",
              "       0, 1, 0, 1, 1, 0, 0, 0, 1, 0, 0, 0, 1, 1, 1, 0, 1, 1, 0, 0, 0, 1,\n",
              "       0, 1, 1, 1, 1, 1, 1, 1, 0, 0, 0, 1, 0, 1, 1, 0, 0, 0, 1, 1, 0, 0,\n",
              "       0, 0, 0, 0, 0, 1, 0, 1, 0, 0, 1, 1, 0, 0, 1, 0, 1, 0, 1, 0, 0, 1,\n",
              "       0, 1, 1, 1, 1, 1, 0, 1, 1, 0, 0, 1, 0, 0, 1, 0, 0, 1, 0, 1, 1, 1,\n",
              "       0, 0, 0, 0, 1, 0, 0, 0, 0, 0, 0, 0, 1, 1, 0, 0, 0, 0, 0, 0, 1, 0,\n",
              "       1, 1, 1, 0, 0, 1, 0, 1, 0, 0, 1, 0, 0, 0, 0, 0, 1, 0, 0, 1, 1, 1,\n",
              "       1, 0, 0, 1, 1, 1, 1, 0, 0, 1, 1, 1, 0, 1, 0, 1, 1, 0, 0, 0, 0, 0,\n",
              "       0, 0, 1, 0, 0, 1, 0, 1, 0, 0, 0, 0, 1, 1, 1, 0, 0, 1, 0, 1, 0, 0,\n",
              "       0, 0, 0, 1, 0, 0, 0, 1, 1, 0, 1, 1, 1, 1, 0, 1, 0, 0, 0, 1, 0, 1,\n",
              "       0, 0, 0, 0, 0, 1, 1, 1, 0, 0, 0, 0, 1, 1, 0, 1, 0, 1, 1, 1, 0, 0,\n",
              "       0, 0, 1, 1, 1, 0, 1, 0, 1, 0, 1, 0, 0, 0, 0, 1, 0, 1, 1, 1, 0, 0,\n",
              "       1, 0, 0, 1, 0, 1, 1, 0, 1, 1, 1, 0, 0, 0, 0, 0, 0, 1, 1, 1, 0, 0,\n",
              "       0, 1, 1, 1, 1, 0, 1, 0, 0, 1, 1, 0, 1, 1, 0, 0, 0, 1, 1, 1, 1, 1,\n",
              "       0, 0, 1, 1, 0, 0, 0, 1, 0, 1, 0, 0, 1, 1, 0, 1, 0, 1, 0, 0, 1, 1,\n",
              "       0, 0, 0, 1, 1, 0, 1, 0, 1, 1, 0, 1, 1, 1, 0, 0, 0, 0, 0, 0, 1, 1,\n",
              "       0, 0, 0, 0, 1, 0, 0, 0, 0, 0, 0, 0, 0, 1, 1, 0, 1, 0, 0, 1, 0, 0,\n",
              "       0, 0, 0, 1, 0, 1, 0, 0, 0, 0, 0, 0, 0, 0, 1, 0, 0, 1, 0, 0, 1, 0,\n",
              "       0, 0, 1, 1, 0, 0, 1, 0, 0, 1, 0, 0, 1, 0, 1, 1, 0, 1, 0, 1, 0, 0,\n",
              "       0, 1, 1, 0, 1, 1, 1, 0, 1, 0, 0, 1, 1, 1, 0, 0, 1, 1, 0, 1, 0, 0,\n",
              "       0, 0, 1, 0, 1, 1, 1, 1, 1, 0, 0, 0, 1, 0, 0, 1, 0, 0, 0, 0, 0, 0,\n",
              "       1, 1, 1, 1, 0, 1, 0, 0, 0, 0, 0, 0, 0, 1, 0, 0, 0, 1, 0, 0, 0, 1,\n",
              "       0, 1, 0, 1, 0, 1, 1, 1, 0, 0, 1, 1, 0, 1, 1, 0, 1, 0, 0, 0, 1, 1,\n",
              "       0, 0, 1, 0, 1, 1, 0, 0, 0, 1, 0, 0, 0, 0, 0, 0, 0, 0, 0, 1, 0, 1,\n",
              "       0, 0, 1, 1, 0, 1, 1, 1, 0, 0, 1, 1, 1, 0, 0, 0, 0, 1, 0, 1, 1, 0,\n",
              "       1, 0, 0, 1, 1, 0, 1, 1, 1, 1, 0, 0, 0, 0, 0, 1, 0, 0, 1, 1, 0, 1,\n",
              "       0, 0, 0, 0, 0, 1, 0, 1, 0, 0, 0, 0, 0, 1, 1, 0, 1, 1, 1, 1, 1, 1,\n",
              "       0, 0, 1, 0, 0, 1, 1, 1, 0, 1, 0, 0, 1, 0, 0, 0, 1, 0, 1, 0, 0, 1,\n",
              "       0, 0, 0, 0, 0, 1, 0, 0, 1, 1, 0, 0, 0, 0, 0, 0, 0, 1, 0, 1, 0, 1,\n",
              "       1, 1, 0, 0, 0, 1, 1, 0, 0, 0, 0, 0, 1, 1, 1, 0, 0, 0, 0, 0, 0, 0,\n",
              "       0, 0, 0, 1, 1, 0, 0, 1, 0, 0, 0, 0, 1, 0, 1, 1, 0, 0, 0, 0, 1, 0,\n",
              "       1, 0, 1, 1, 1, 0, 1, 0, 1, 0, 1, 0, 0, 1, 0, 0, 1, 0, 0, 0, 1, 1,\n",
              "       1, 0, 1, 1, 0, 0, 0, 0, 1, 0, 0, 1, 1, 1, 0, 0, 1, 0, 0, 0, 1, 0,\n",
              "       1, 1, 1, 0, 0, 0, 1, 0, 0, 0, 0, 0, 0, 0, 0, 1, 0, 1, 0, 1, 0, 0,\n",
              "       0, 1, 0, 1, 0, 0, 0, 1, 1, 0, 1, 1, 0, 0, 1, 0, 0, 0, 1, 0, 0, 1,\n",
              "       0, 0, 0, 0, 1, 0, 1, 1, 0, 0, 1, 0, 1, 1, 1, 0, 0, 0, 1, 0, 0, 0,\n",
              "       0, 1, 1, 0, 0, 0, 1, 0, 1, 0, 1, 1, 0, 0, 1, 0, 1, 1, 1, 1, 0, 1,\n",
              "       1, 0, 0, 0, 0, 1, 0, 0, 0, 1, 0, 1, 0, 0, 0, 0, 0, 0, 0, 0, 1, 1,\n",
              "       1, 1, 1, 0, 0, 1, 0, 0, 0, 0])"
            ]
          },
          "metadata": {},
          "execution_count": 11
        }
      ]
    },
    {
      "cell_type": "code",
      "source": [
        "!pip install scikit-learn"
      ],
      "metadata": {
        "colab": {
          "base_uri": "https://localhost:8080/"
        },
        "id": "_yM5g8E1eR2G",
        "outputId": "10663c4e-cb6e-4d96-851c-f358f59ab7bf"
      },
      "execution_count": null,
      "outputs": [
        {
          "output_type": "stream",
          "name": "stdout",
          "text": [
            "Requirement already satisfied: scikit-learn in /usr/local/lib/python3.10/dist-packages (1.2.2)\n",
            "Requirement already satisfied: numpy>=1.17.3 in /usr/local/lib/python3.10/dist-packages (from scikit-learn) (1.23.5)\n",
            "Requirement already satisfied: scipy>=1.3.2 in /usr/local/lib/python3.10/dist-packages (from scikit-learn) (1.11.2)\n",
            "Requirement already satisfied: joblib>=1.1.1 in /usr/local/lib/python3.10/dist-packages (from scikit-learn) (1.3.2)\n",
            "Requirement already satisfied: threadpoolctl>=2.0.0 in /usr/local/lib/python3.10/dist-packages (from scikit-learn) (3.2.0)\n"
          ]
        }
      ]
    },
    {
      "cell_type": "code",
      "source": [
        "from sklearn.model_selection import train_test_split"
      ],
      "metadata": {
        "id": "-6bsrGCjjfhz"
      },
      "execution_count": null,
      "outputs": []
    },
    {
      "cell_type": "code",
      "source": [
        "X_train,X_test,y_train,y_test=train_test_split(X,y,test_size=0.2,random_state=42)"
      ],
      "metadata": {
        "id": "q0xeZEtok6kC"
      },
      "execution_count": null,
      "outputs": []
    },
    {
      "cell_type": "code",
      "source": [
        "X_train"
      ],
      "metadata": {
        "colab": {
          "base_uri": "https://localhost:8080/"
        },
        "id": "G18-3P7Ulf5M",
        "outputId": "7a9632e3-208e-44dd-f874-d4bf6cf6a183"
      },
      "execution_count": null,
      "outputs": [
        {
          "output_type": "execute_result",
          "data": {
            "text/plain": [
              "array([[    1,    26, 28000,  5000],\n",
              "       [    1,    54, 21000,  7000],\n",
              "       [    0,    42, 22000,  5000],\n",
              "       ...,\n",
              "       [    0,    59, 91000,  2000],\n",
              "       [    0,    31, 82000,  2000],\n",
              "       [    0,    20, 34000,  5000]])"
            ]
          },
          "metadata": {},
          "execution_count": 15
        }
      ]
    },
    {
      "cell_type": "code",
      "source": [
        "X_test"
      ],
      "metadata": {
        "colab": {
          "base_uri": "https://localhost:8080/"
        },
        "id": "zPtiWn-zoVP0",
        "outputId": "0e10c272-e229-4516-eadf-61c50e04efb0"
      },
      "execution_count": null,
      "outputs": [
        {
          "output_type": "execute_result",
          "data": {
            "text/plain": [
              "array([[     1,     54,  36000,   5000],\n",
              "       [     0,     54,  60000,   7000],\n",
              "       [     1,     25,  39000,   2000],\n",
              "       [     0,     39,  38000,   7000],\n",
              "       [     1,     28,  37000,   5000],\n",
              "       [     1,     52,  42000,   2000],\n",
              "       [     0,     43,  25000,   7000],\n",
              "       [     0,     40,  22000,   5000],\n",
              "       [     0,     18,  23000,   3500],\n",
              "       [     1,     62,  40000,   5000],\n",
              "       [     1,     53,  66000,   5000],\n",
              "       [     0,     50,  38000,   7000],\n",
              "       [     0,     49,  59000,   7000],\n",
              "       [     0,     56,  97000,   2000],\n",
              "       [     1,     41,  44000,   3500],\n",
              "       [     1,     37,  74000,   2000],\n",
              "       [     0,     51,  23000,   5000],\n",
              "       [     1,     54,  29000,   2000],\n",
              "       [     1,     30,  48000,   3500],\n",
              "       [     1,     56,  87000,   3500],\n",
              "       [     0,     61,  75000,   7000],\n",
              "       [     1,     52,  49000,   7000],\n",
              "       [     0,     38, 100000,   2000],\n",
              "       [     0,     40,  79000,   5000],\n",
              "       [     1,     39,  45000,   2000],\n",
              "       [     0,     61,  79000,   7000],\n",
              "       [     1,     38,  94000,   7000],\n",
              "       [     0,     24,  23000,   7000],\n",
              "       [     1,     59,  62000,   5000],\n",
              "       [     1,     61,  67000,   3500],\n",
              "       [     1,     40,  31000,   7000],\n",
              "       [     0,     20,  98000,   3500],\n",
              "       [     0,     61,  88000,   5000],\n",
              "       [     0,     46,  77000,   7000],\n",
              "       [     1,     40,  70000,   2000],\n",
              "       [     1,     56,  79000,   2000],\n",
              "       [     1,     23,  40000,   2000],\n",
              "       [     0,     60,  80000,   3500],\n",
              "       [     1,     18,  47000,   2000],\n",
              "       [     1,     53,  53000,   2000],\n",
              "       [     0,     58,  49000,   7000],\n",
              "       [     1,     20,  63000,   5000],\n",
              "       [     1,     32,  42000,   2000],\n",
              "       [     1,     54,  59000,   7000],\n",
              "       [     0,     38,  39000,   5000],\n",
              "       [     0,     19,  34000,   3500],\n",
              "       [     0,     56,  45000,   3500],\n",
              "       [     1,     23,  86000,   5000],\n",
              "       [     1,     38,  30000,   7000],\n",
              "       [     0,     46,  53000,   5000],\n",
              "       [     1,     60,  59000,   7000],\n",
              "       [     0,     52,  24000,   5000],\n",
              "       [     1,     60,  98000,   5000],\n",
              "       [     0,     56,  59000,   5000],\n",
              "       [     1,     25,  51000,   3500],\n",
              "       [     0,     22,  70000,   2000],\n",
              "       [     1,     19,  80000,   5000],\n",
              "       [     0,     31,  40000,   5000],\n",
              "       [     0,     61,  75000,   2000],\n",
              "       [     0,     29,  88000,   7000],\n",
              "       [     0,     39,  76000,   3500],\n",
              "       [     1,     58,  39000,   2000],\n",
              "       [     1,     33,  35000,   3500],\n",
              "       [     0,     51,  65000,   5000],\n",
              "       [     1,     53,  21000,   3500],\n",
              "       [     0,     59,  32000,   3500],\n",
              "       [     0,     35,  74000,   3500],\n",
              "       [     1,     63,  62000,   5000],\n",
              "       [     0,     35,  73000,   5000],\n",
              "       [     0,     26,  55000,   7000],\n",
              "       [     0,     39,  59000,   3500],\n",
              "       [     0,     18,  52000,   2000],\n",
              "       [     0,     23,  74000,   7000],\n",
              "       [     1,     40,  27000,   7000],\n",
              "       [     1,     42,  40000,   2000],\n",
              "       [     0,     36,  90000,   7000],\n",
              "       [     1,     20,  92000,   3500],\n",
              "       [     1,     30,  36000,   3500],\n",
              "       [     0,     50,  48000,   2000],\n",
              "       [     1,     30,  82000,   5000],\n",
              "       [     1,     26,  64000,   2000],\n",
              "       [     1,     63,  61000,   5000],\n",
              "       [     0,     60,  45000,   7000],\n",
              "       [     0,     50,  33000,   2000],\n",
              "       [     1,     58,  47000,   2000],\n",
              "       [     1,     59,  65000,   2000],\n",
              "       [     1,     22,  29000,   5000],\n",
              "       [     0,     31,  36000,   2000],\n",
              "       [     1,     24,  30000,   5000],\n",
              "       [     0,     22,  87000,   7000],\n",
              "       [     1,     60,  51000,   7000],\n",
              "       [     1,     43,  20000,   7000],\n",
              "       [     1,     64,  69000,   3500],\n",
              "       [     1,     30,  40000,   7000],\n",
              "       [     1,     59,  46000,   2000],\n",
              "       [     1,     19,  43000,   2000],\n",
              "       [     1,     26,  84000,   3500],\n",
              "       [     1,     49,  62000,   3500],\n",
              "       [     0,     43,  46000,   3500],\n",
              "       [     1,     33,  75000,   2000],\n",
              "       [     1,     56,  52000,   5000],\n",
              "       [     1,     46,  60000,   5000],\n",
              "       [     0,     64,  93000,   2000],\n",
              "       [     1,     56,  97000,   3500],\n",
              "       [     1,     55,  54000,   5000],\n",
              "       [     1,     57,  61000,   3500],\n",
              "       [     1,     53,  43000,   3500],\n",
              "       [     0,     40,  92000,   7000],\n",
              "       [     0,     22,  87000,   2000],\n",
              "       [     1,     21,  38000,   7000],\n",
              "       [     0,     29,  41000,   3500],\n",
              "       [     1,     26,  56000,   7000],\n",
              "       [     0,     35,  43000,   2000],\n",
              "       [     1,     47,  39000,   3500],\n",
              "       [     1,     44,  72000,   3500],\n",
              "       [     1,     55,  25000,   2000],\n",
              "       [     0,     23,  79000,   3500],\n",
              "       [     1,     25,  76000,   3500],\n",
              "       [     1,     62,  67000,   7000],\n",
              "       [     1,     24,  68000,   5000],\n",
              "       [     0,     56,  37000,   7000],\n",
              "       [     0,     62,  86000,   7000],\n",
              "       [     1,     38,  82000,   2000],\n",
              "       [     1,     60,  50000,   7000],\n",
              "       [     1,     49,  78000,   7000],\n",
              "       [     1,     40,  82000,   5000],\n",
              "       [     0,     33,  94000,   5000],\n",
              "       [     0,     60,  81000,   7000],\n",
              "       [     0,     63,  37000,   3500],\n",
              "       [     0,     55,  90000,   7000],\n",
              "       [     0,     64,  60000,   3500],\n",
              "       [     0,     19,  88000,   5000],\n",
              "       [     0,     39,  31000,   7000],\n",
              "       [     1,     21,  73000,   5000],\n",
              "       [     0,     46,  28000,   2000],\n",
              "       [     1,     54,  24000,   2000],\n",
              "       [     0,     21,  39000,   5000],\n",
              "       [     1,     54,  32000,   2000],\n",
              "       [     0,     53,  23000,   2000],\n",
              "       [     0,     45,  67000,   7000],\n",
              "       [     1,     60,  31000,   7000],\n",
              "       [     1,     24,  90000,   3500],\n",
              "       [     1,     45,  55000,   7000],\n",
              "       [     0,     21,  21000,   7000],\n",
              "       [     0,     35,  33000,   7000],\n",
              "       [     0,     34,  28000,   3500],\n",
              "       [     0,     21,  57000,   7000],\n",
              "       [     0,     22,  98000,   3500],\n",
              "       [     1,     31,  71000,   5000],\n",
              "       [     1,     22,  96000,   3500],\n",
              "       [     1,     50,  89000,   2000],\n",
              "       [     1,     42,  70000,   3500],\n",
              "       [     1,     24,  87000,   2000],\n",
              "       [     0,     35,  20000,   5000],\n",
              "       [     0,     63,  70000,   3500],\n",
              "       [     1,     42,  68000,   7000],\n",
              "       [     0,     52,  47000,   5000],\n",
              "       [     1,     43,  64000,   7000],\n",
              "       [     0,     36,  64000,   2000],\n",
              "       [     1,     18,  62000,   5000],\n",
              "       [     0,     29,  27000,   5000],\n",
              "       [     1,     48,  54000,   5000],\n",
              "       [     1,     64,  30000,   5000],\n",
              "       [     0,     61,  75000,   2000],\n",
              "       [     0,     20,  20000,   7000],\n",
              "       [     0,     62,  29000,   5000],\n",
              "       [     0,     43,  28000,   2000],\n",
              "       [     0,     43, 100000,   3500],\n",
              "       [     0,     45,  37000,   2000],\n",
              "       [     1,     21,  24000,   7000],\n",
              "       [     1,     24,  95000,   7000],\n",
              "       [     1,     28,  82000,   3500],\n",
              "       [     1,     40,  20000,   5000],\n",
              "       [     0,     38,  40000,   2000],\n",
              "       [     1,     30,  43000,   2000],\n",
              "       [     0,     53,  94000,   5000],\n",
              "       [     0,     63,  99000,   7000],\n",
              "       [     1,     64,  92000,   3500],\n",
              "       [     1,     33,  42000,   3500],\n",
              "       [     1,     40,  30000,   7000],\n",
              "       [     1,     21,  60000,   3500],\n",
              "       [     1,     42,  56000,   7000],\n",
              "       [     1,     18,  50000,   2000],\n",
              "       [     1,     25,  91000,   7000],\n",
              "       [     0,     40,  58000,   7000],\n",
              "       [     0,     26,  41000,   2000],\n",
              "       [     0,     54,  93000,   2000],\n",
              "       [     1,     59,  56000,   2000],\n",
              "       [     0,     56,  86000,   5000],\n",
              "       [     0,     27,  79000,   7000],\n",
              "       [     1,     59,  92000,   2000],\n",
              "       [     1,     51,  94000,   3500],\n",
              "       [     0,     28,  22000,   5000],\n",
              "       [     1,     32, 100000,   5000],\n",
              "       [     1,     33,  27000,   5000],\n",
              "       [     1,     57,  37000,   3500],\n",
              "       [     0,     45,  68000,   2000],\n",
              "       [     0,     58,  95000,   7000],\n",
              "       [     1,     36,  23000,   5000],\n",
              "       [     1,     61,  47000,   2000]])"
            ]
          },
          "metadata": {},
          "execution_count": 16
        }
      ]
    },
    {
      "cell_type": "code",
      "source": [
        "y_train"
      ],
      "metadata": {
        "colab": {
          "base_uri": "https://localhost:8080/"
        },
        "id": "I1fuvTRboXTc",
        "outputId": "d55827e5-eb3b-41ff-c85e-d75e8c3ab687"
      },
      "execution_count": null,
      "outputs": [
        {
          "output_type": "execute_result",
          "data": {
            "text/plain": [
              "array([0, 0, 0, 0, 1, 1, 0, 0, 1, 0, 0, 0, 0, 0, 0, 0, 1, 1, 0, 1, 1, 0,\n",
              "       0, 1, 0, 1, 0, 0, 0, 0, 1, 0, 0, 0, 0, 0, 1, 1, 1, 0, 0, 1, 0, 0,\n",
              "       1, 0, 0, 1, 0, 1, 1, 1, 1, 0, 1, 1, 1, 1, 0, 1, 1, 1, 0, 0, 0, 0,\n",
              "       1, 1, 0, 1, 1, 1, 0, 1, 0, 1, 0, 0, 0, 0, 0, 1, 0, 0, 1, 0, 1, 1,\n",
              "       1, 0, 0, 0, 0, 1, 1, 0, 0, 1, 0, 0, 0, 0, 1, 0, 1, 0, 0, 1, 1, 1,\n",
              "       0, 0, 0, 1, 0, 1, 0, 0, 0, 1, 1, 0, 1, 0, 0, 0, 1, 0, 1, 1, 0, 1,\n",
              "       1, 1, 1, 0, 0, 0, 0, 0, 1, 1, 1, 1, 0, 0, 1, 1, 0, 0, 0, 0, 1, 1,\n",
              "       1, 1, 0, 1, 0, 1, 1, 1, 1, 1, 1, 1, 0, 1, 0, 1, 1, 0, 0, 1, 0, 1,\n",
              "       0, 1, 1, 0, 1, 1, 1, 1, 0, 1, 0, 0, 1, 0, 0, 1, 0, 0, 1, 0, 0, 1,\n",
              "       1, 0, 0, 0, 0, 1, 1, 1, 0, 0, 1, 0, 0, 1, 0, 0, 1, 1, 0, 0, 0, 0,\n",
              "       0, 0, 1, 0, 0, 1, 1, 0, 0, 0, 0, 1, 0, 0, 0, 0, 0, 0, 1, 0, 0, 0,\n",
              "       0, 0, 1, 0, 1, 0, 1, 0, 1, 0, 1, 0, 0, 0, 0, 1, 0, 0, 1, 0, 1, 0,\n",
              "       0, 0, 0, 0, 1, 1, 0, 1, 1, 0, 0, 1, 0, 0, 0, 0, 0, 1, 0, 0, 1, 0,\n",
              "       1, 0, 1, 1, 0, 0, 0, 0, 1, 0, 1, 0, 1, 1, 0, 1, 0, 0, 1, 1, 1, 0,\n",
              "       1, 0, 0, 0, 1, 1, 1, 0, 0, 1, 0, 0, 0, 0, 1, 0, 0, 0, 0, 1, 0, 1,\n",
              "       0, 1, 0, 1, 1, 0, 0, 1, 0, 1, 1, 0, 1, 1, 0, 0, 0, 0, 1, 0, 0, 0,\n",
              "       1, 0, 0, 1, 0, 1, 0, 1, 0, 0, 1, 0, 1, 1, 0, 0, 0, 0, 1, 0, 0, 1,\n",
              "       0, 0, 0, 0, 1, 0, 0, 0, 0, 0, 0, 0, 0, 0, 0, 1, 1, 1, 0, 1, 1, 0,\n",
              "       1, 1, 1, 1, 0, 0, 0, 0, 0, 1, 1, 0, 1, 1, 1, 0, 0, 1, 1, 1, 1, 0,\n",
              "       0, 1, 1, 1, 0, 0, 0, 0, 0, 0, 0, 0, 1, 0, 0, 0, 0, 1, 0, 1, 1, 0,\n",
              "       1, 0, 1, 1, 0, 1, 1, 0, 1, 0, 0, 0, 0, 0, 0, 0, 0, 1, 1, 0, 0, 0,\n",
              "       0, 1, 0, 0, 1, 0, 1, 0, 1, 0, 0, 0, 0, 0, 0, 0, 0, 0, 1, 0, 0, 0,\n",
              "       0, 0, 1, 1, 1, 0, 1, 0, 0, 0, 0, 1, 0, 0, 1, 0, 0, 0, 0, 0, 1, 1,\n",
              "       0, 0, 0, 1, 1, 1, 0, 0, 0, 0, 0, 0, 0, 0, 0, 1, 1, 0, 1, 1, 0, 0,\n",
              "       1, 0, 1, 1, 0, 0, 0, 0, 0, 1, 1, 1, 0, 0, 0, 1, 0, 1, 0, 0, 1, 0,\n",
              "       0, 1, 1, 1, 0, 0, 0, 0, 1, 1, 0, 0, 0, 1, 0, 0, 1, 0, 1, 0, 0, 0,\n",
              "       1, 1, 0, 0, 0, 0, 0, 1, 0, 0, 0, 0, 0, 0, 0, 0, 0, 1, 1, 1, 0, 1,\n",
              "       1, 1, 0, 0, 1, 1, 1, 1, 1, 0, 1, 0, 0, 1, 0, 1, 0, 0, 1, 0, 1, 0,\n",
              "       0, 1, 1, 0, 0, 1, 1, 0, 1, 1, 0, 0, 1, 0, 0, 1, 0, 1, 0, 0, 0, 0,\n",
              "       0, 0, 0, 1, 0, 1, 1, 0, 1, 1, 0, 0, 0, 1, 1, 1, 0, 0, 1, 1, 0, 0,\n",
              "       0, 1, 1, 0, 1, 0, 0, 1, 1, 1, 0, 0, 0, 1, 1, 1, 0, 0, 0, 1, 0, 1,\n",
              "       1, 0, 0, 1, 1, 0, 1, 1, 0, 1, 0, 0, 1, 0, 0, 1, 0, 0, 0, 0, 0, 1,\n",
              "       0, 0, 0, 0, 1, 0, 1, 0, 0, 1, 1, 1, 1, 0, 0, 1, 1, 1, 1, 0, 1, 0,\n",
              "       0, 1, 0, 1, 1, 0, 0, 1, 1, 0, 1, 1, 0, 0, 1, 1, 0, 1, 0, 0, 1, 0,\n",
              "       1, 0, 0, 1, 0, 1, 0, 1, 1, 1, 1, 1, 1, 0, 1, 1, 0, 1, 1, 1, 0, 1,\n",
              "       0, 0, 0, 1, 1, 0, 1, 1, 1, 0, 1, 0, 1, 0, 0, 0, 1, 0, 0, 0, 1, 0,\n",
              "       0, 0, 0, 0, 0, 1, 1, 1])"
            ]
          },
          "metadata": {},
          "execution_count": 17
        }
      ]
    },
    {
      "cell_type": "code",
      "source": [
        "y_test"
      ],
      "metadata": {
        "colab": {
          "base_uri": "https://localhost:8080/"
        },
        "id": "JDpvFk1zoZwP",
        "outputId": "672e6435-e202-442a-da56-abf684f40654"
      },
      "execution_count": null,
      "outputs": [
        {
          "output_type": "execute_result",
          "data": {
            "text/plain": [
              "array([0, 0, 1, 0, 1, 0, 0, 0, 0, 0, 0, 0, 0, 1, 1, 1, 0, 0, 0, 1, 0, 0,\n",
              "       1, 0, 0, 0, 0, 0, 0, 1, 0, 1, 1, 0, 0, 0, 1, 1, 0, 1, 0, 0, 1, 0,\n",
              "       0, 1, 0, 1, 0, 0, 0, 0, 1, 1, 1, 1, 1, 1, 0, 0, 1, 0, 1, 1, 0, 1,\n",
              "       1, 1, 1, 0, 1, 1, 0, 0, 0, 0, 1, 0, 1, 1, 1, 1, 0, 1, 1, 1, 0, 0,\n",
              "       1, 0, 0, 0, 1, 0, 1, 1, 1, 0, 0, 1, 0, 0, 1, 1, 0, 1, 0, 0, 1, 0,\n",
              "       0, 0, 0, 0, 1, 0, 1, 0, 0, 0, 0, 0, 1, 0, 0, 1, 1, 0, 0, 0, 1, 1,\n",
              "       0, 1, 0, 0, 1, 0, 0, 0, 0, 1, 0, 0, 0, 0, 0, 1, 0, 1, 1, 0, 1, 0,\n",
              "       0, 0, 0, 0, 0, 0, 0, 0, 1, 0, 0, 0, 0, 1, 1, 0, 0, 1, 0, 1, 0, 1,\n",
              "       0, 1, 0, 0, 0, 0, 0, 0, 0, 1, 1, 1, 1, 0, 1, 1, 0, 1, 0, 0, 1, 0,\n",
              "       0, 0])"
            ]
          },
          "metadata": {},
          "execution_count": 18
        }
      ]
    },
    {
      "cell_type": "code",
      "source": [
        "len(X_train)"
      ],
      "metadata": {
        "colab": {
          "base_uri": "https://localhost:8080/"
        },
        "id": "lb27Lap7o9aM",
        "outputId": "f95ab561-b0df-4710-8009-4e20df6b5eaf"
      },
      "execution_count": null,
      "outputs": [
        {
          "output_type": "execute_result",
          "data": {
            "text/plain": [
              "800"
            ]
          },
          "metadata": {},
          "execution_count": 19
        }
      ]
    },
    {
      "cell_type": "code",
      "source": [
        "from sklearn.preprocessing import StandardScaler"
      ],
      "metadata": {
        "id": "g7vPzBn5pWF4"
      },
      "execution_count": null,
      "outputs": []
    },
    {
      "cell_type": "code",
      "source": [
        "scaler=StandardScaler()\n",
        "\n",
        "X_train=scaler.fit_transform(X_train)\n",
        "X_test=scaler.fit_transform(X_test)"
      ],
      "metadata": {
        "id": "KoIvsmJ6pmMS"
      },
      "execution_count": null,
      "outputs": []
    },
    {
      "cell_type": "code",
      "source": [
        "X_train"
      ],
      "metadata": {
        "colab": {
          "base_uri": "https://localhost:8080/"
        },
        "id": "3azyZV2WskoF",
        "outputId": "3d1c73e1-4ae1-497d-8990-446cc0c48550"
      },
      "execution_count": null,
      "outputs": [
        {
          "output_type": "execute_result",
          "data": {
            "text/plain": [
              "array([[ 1.08347268, -1.09076887, -1.30749141,  0.30934614],\n",
              "       [ 1.08347268,  0.97668947, -1.60377078,  1.39955279],\n",
              "       [-0.92295821,  0.0906359 , -1.56144515,  0.30934614],\n",
              "       ...,\n",
              "       [-0.92295821,  1.34587846,  1.35902286, -1.32596384],\n",
              "       [-0.92295821, -0.72157988,  0.97809225, -1.32596384],\n",
              "       [-0.92295821, -1.53379565, -1.05353767,  0.30934614]])"
            ]
          },
          "metadata": {},
          "execution_count": 22
        }
      ]
    },
    {
      "cell_type": "code",
      "source": [
        "X_test"
      ],
      "metadata": {
        "colab": {
          "base_uri": "https://localhost:8080/"
        },
        "id": "t9T6ZmgQspJa",
        "outputId": "e92acb2d-c93a-4c7a-f5e6-ead22ea99e3a"
      },
      "execution_count": null,
      "outputs": [
        {
          "output_type": "execute_result",
          "data": {
            "text/plain": [
              "array([[ 0.91370804,  0.84165121, -0.92674628,  0.29135523],\n",
              "       [-1.0944415 ,  0.84165121,  0.09493083,  1.3460348 ],\n",
              "       [ 0.91370804, -1.16805526, -0.79903664, -1.29066412],\n",
              "       [-1.0944415 , -0.19785214, -0.84160652,  1.3460348 ],\n",
              "       [ 0.91370804, -0.96015459, -0.8841764 ,  0.29135523],\n",
              "       [ 0.91370804,  0.70305076, -0.671327  , -1.29066412],\n",
              "       [-1.0944415 ,  0.07934876, -1.39501496,  1.3460348 ],\n",
              "       [-1.0944415 , -0.12855191, -1.5227246 ,  0.29135523],\n",
              "       [-1.0944415 , -1.65315683, -1.48015472, -0.49965444],\n",
              "       [ 0.91370804,  1.396053  , -0.75646676,  0.29135523],\n",
              "       [ 0.91370804,  0.77235099,  0.35035011,  0.29135523],\n",
              "       [-1.0944415 ,  0.56445032, -0.84160652,  1.3460348 ],\n",
              "       [-1.0944415 ,  0.49515009,  0.05236095,  1.3460348 ],\n",
              "       [-1.0944415 ,  0.98025166,  1.67001638, -1.29066412],\n",
              "       [ 0.91370804, -0.05925169, -0.58618724, -0.49965444],\n",
              "       [ 0.91370804, -0.33645258,  0.69090915, -1.29066412],\n",
              "       [-1.0944415 ,  0.63375054, -1.48015472,  0.29135523],\n",
              "       [ 0.91370804,  0.84165121, -1.22473544, -1.29066412],\n",
              "       [ 0.91370804, -0.82155415, -0.41590772, -0.49965444],\n",
              "       [ 0.91370804,  0.98025166,  1.24431758, -0.49965444],\n",
              "       [-1.0944415 ,  1.32675277,  0.73347903,  1.3460348 ],\n",
              "       [ 0.91370804,  0.70305076, -0.37333784,  1.3460348 ],\n",
              "       [-1.0944415 , -0.26715236,  1.79772602, -1.29066412],\n",
              "       [-1.0944415 , -0.12855191,  0.90375855,  0.29135523],\n",
              "       [ 0.91370804, -0.19785214, -0.54361736, -1.29066412],\n",
              "       [-1.0944415 ,  1.32675277,  0.90375855,  1.3460348 ],\n",
              "       [ 0.91370804, -0.26715236,  1.54230674,  1.3460348 ],\n",
              "       [-1.0944415 , -1.23735549, -1.48015472,  1.3460348 ],\n",
              "       [ 0.91370804,  1.18815233,  0.18007059,  0.29135523],\n",
              "       [ 0.91370804,  1.32675277,  0.39291999, -0.49965444],\n",
              "       [ 0.91370804, -0.12855191, -1.13959568,  1.3460348 ],\n",
              "       [-1.0944415 , -1.51455638,  1.71258626, -0.49965444],\n",
              "       [-1.0944415 ,  1.32675277,  1.28688746,  0.29135523],\n",
              "       [-1.0944415 ,  0.28724943,  0.81861879,  1.3460348 ],\n",
              "       [ 0.91370804, -0.12855191,  0.52062963, -1.29066412],\n",
              "       [ 0.91370804,  0.98025166,  0.90375855, -1.29066412],\n",
              "       [ 0.91370804, -1.30665571, -0.75646676, -1.29066412],\n",
              "       [-1.0944415 ,  1.25745255,  0.94632843, -0.49965444],\n",
              "       [ 0.91370804, -1.65315683, -0.4584776 , -1.29066412],\n",
              "       [ 0.91370804,  0.77235099, -0.20305833, -1.29066412],\n",
              "       [-1.0944415 ,  1.1188521 , -0.37333784,  1.3460348 ],\n",
              "       [ 0.91370804, -1.51455638,  0.22264047,  0.29135523],\n",
              "       [ 0.91370804, -0.6829537 , -0.671327  , -1.29066412],\n",
              "       [ 0.91370804,  0.84165121,  0.05236095,  1.3460348 ],\n",
              "       [-1.0944415 , -0.26715236, -0.79903664,  0.29135523],\n",
              "       [-1.0944415 , -1.5838566 , -1.01188604, -0.49965444],\n",
              "       [-1.0944415 ,  0.98025166, -0.54361736, -0.49965444],\n",
              "       [ 0.91370804, -1.30665571,  1.2017477 ,  0.29135523],\n",
              "       [ 0.91370804, -0.26715236, -1.18216556,  1.3460348 ],\n",
              "       [-1.0944415 ,  0.28724943, -0.20305833,  0.29135523],\n",
              "       [ 0.91370804,  1.25745255,  0.05236095,  1.3460348 ],\n",
              "       [-1.0944415 ,  0.70305076, -1.43758484,  0.29135523],\n",
              "       [ 0.91370804,  1.25745255,  1.71258626,  0.29135523],\n",
              "       [-1.0944415 ,  0.98025166,  0.05236095,  0.29135523],\n",
              "       [ 0.91370804, -1.16805526, -0.28819809, -0.49965444],\n",
              "       [-1.0944415 , -1.37595593,  0.52062963, -1.29066412],\n",
              "       [ 0.91370804, -1.5838566 ,  0.94632843,  0.29135523],\n",
              "       [-1.0944415 , -0.75225392, -0.75646676,  0.29135523],\n",
              "       [-1.0944415 ,  1.32675277,  0.73347903, -1.29066412],\n",
              "       [-1.0944415 , -0.89085437,  1.28688746,  1.3460348 ],\n",
              "       [-1.0944415 , -0.19785214,  0.77604891, -0.49965444],\n",
              "       [ 0.91370804,  1.1188521 , -0.79903664, -1.29066412],\n",
              "       [ 0.91370804, -0.61365348, -0.96931616, -0.49965444],\n",
              "       [-1.0944415 ,  0.63375054,  0.30778023,  0.29135523],\n",
              "       [ 0.91370804,  0.77235099, -1.56529448, -0.49965444],\n",
              "       [-1.0944415 ,  1.18815233, -1.0970258 , -0.49965444],\n",
              "       [-1.0944415 , -0.47505303,  0.69090915, -0.49965444],\n",
              "       [ 0.91370804,  1.46535322,  0.18007059,  0.29135523],\n",
              "       [-1.0944415 , -0.47505303,  0.64833927,  0.29135523],\n",
              "       [-1.0944415 , -1.09875504, -0.11791857,  1.3460348 ],\n",
              "       [-1.0944415 , -0.19785214,  0.05236095, -0.49965444],\n",
              "       [-1.0944415 , -1.65315683, -0.24562821, -1.29066412],\n",
              "       [-1.0944415 , -1.30665571,  0.69090915,  1.3460348 ],\n",
              "       [ 0.91370804, -0.12855191, -1.3098752 ,  1.3460348 ],\n",
              "       [ 0.91370804,  0.01004853, -0.75646676, -1.29066412],\n",
              "       [-1.0944415 , -0.40575281,  1.37202722,  1.3460348 ],\n",
              "       [ 0.91370804, -1.51455638,  1.45716698, -0.49965444],\n",
              "       [ 0.91370804, -0.82155415, -0.92674628, -0.49965444],\n",
              "       [-1.0944415 ,  0.56445032, -0.41590772, -1.29066412],\n",
              "       [ 0.91370804, -0.82155415,  1.03146818,  0.29135523],\n",
              "       [ 0.91370804, -1.09875504,  0.26521035, -1.29066412],\n",
              "       [ 0.91370804,  1.46535322,  0.13750071,  0.29135523],\n",
              "       [-1.0944415 ,  1.25745255, -0.54361736,  1.3460348 ],\n",
              "       [-1.0944415 ,  0.56445032, -1.05445592, -1.29066412],\n",
              "       [ 0.91370804,  1.1188521 , -0.4584776 , -1.29066412],\n",
              "       [ 0.91370804,  1.18815233,  0.30778023, -1.29066412],\n",
              "       [ 0.91370804, -1.37595593, -1.22473544,  0.29135523],\n",
              "       [-1.0944415 , -0.75225392, -0.92674628, -1.29066412],\n",
              "       [ 0.91370804, -1.23735549, -1.18216556,  0.29135523],\n",
              "       [-1.0944415 , -1.37595593,  1.24431758,  1.3460348 ],\n",
              "       [ 0.91370804,  1.25745255, -0.28819809,  1.3460348 ],\n",
              "       [ 0.91370804,  0.07934876, -1.60786436,  1.3460348 ],\n",
              "       [ 0.91370804,  1.53465344,  0.47805975, -0.49965444],\n",
              "       [ 0.91370804, -0.82155415, -0.75646676,  1.3460348 ],\n",
              "       [ 0.91370804,  1.18815233, -0.50104748, -1.29066412],\n",
              "       [ 0.91370804, -1.5838566 , -0.62875712, -1.29066412],\n",
              "       [ 0.91370804, -1.09875504,  1.11660794, -0.49965444],\n",
              "       [ 0.91370804,  0.49515009,  0.18007059, -0.49965444],\n",
              "       [-1.0944415 ,  0.07934876, -0.50104748, -0.49965444],\n",
              "       [ 0.91370804, -0.61365348,  0.73347903, -1.29066412],\n",
              "       [ 0.91370804,  0.98025166, -0.24562821,  0.29135523],\n",
              "       [ 0.91370804,  0.28724943,  0.09493083,  0.29135523],\n",
              "       [-1.0944415 ,  1.53465344,  1.49973686, -1.29066412],\n",
              "       [ 0.91370804,  0.98025166,  1.67001638, -0.49965444],\n",
              "       [ 0.91370804,  0.91095143, -0.16048845,  0.29135523],\n",
              "       [ 0.91370804,  1.04955188,  0.13750071, -0.49965444],\n",
              "       [ 0.91370804,  0.77235099, -0.62875712, -0.49965444],\n",
              "       [-1.0944415 , -0.12855191,  1.45716698,  1.3460348 ],\n",
              "       [-1.0944415 , -1.37595593,  1.24431758, -1.29066412],\n",
              "       [ 0.91370804, -1.44525616, -0.84160652,  1.3460348 ],\n",
              "       [-1.0944415 , -0.89085437, -0.71389688, -0.49965444],\n",
              "       [ 0.91370804, -1.09875504, -0.07534869,  1.3460348 ],\n",
              "       [-1.0944415 , -0.47505303, -0.62875712, -1.29066412],\n",
              "       [ 0.91370804,  0.35654965, -0.79903664, -0.49965444],\n",
              "       [ 0.91370804,  0.14864898,  0.60576939, -0.49965444],\n",
              "       [ 0.91370804,  0.91095143, -1.39501496, -1.29066412],\n",
              "       [-1.0944415 , -1.30665571,  0.90375855, -0.49965444],\n",
              "       [ 0.91370804, -1.16805526,  0.77604891, -0.49965444],\n",
              "       [ 0.91370804,  1.396053  ,  0.39291999,  1.3460348 ],\n",
              "       [ 0.91370804, -1.23735549,  0.43548987,  0.29135523],\n",
              "       [-1.0944415 ,  0.98025166, -0.8841764 ,  1.3460348 ],\n",
              "       [-1.0944415 ,  1.396053  ,  1.2017477 ,  1.3460348 ],\n",
              "       [ 0.91370804, -0.26715236,  1.03146818, -1.29066412],\n",
              "       [ 0.91370804,  1.25745255, -0.33076797,  1.3460348 ],\n",
              "       [ 0.91370804,  0.49515009,  0.86118867,  1.3460348 ],\n",
              "       [ 0.91370804, -0.12855191,  1.03146818,  0.29135523],\n",
              "       [-1.0944415 , -0.61365348,  1.54230674,  0.29135523],\n",
              "       [-1.0944415 ,  1.25745255,  0.98889831,  1.3460348 ],\n",
              "       [-1.0944415 ,  1.46535322, -0.8841764 , -0.49965444],\n",
              "       [-1.0944415 ,  0.91095143,  1.37202722,  1.3460348 ],\n",
              "       [-1.0944415 ,  1.53465344,  0.09493083, -0.49965444],\n",
              "       [-1.0944415 , -1.5838566 ,  1.28688746,  0.29135523],\n",
              "       [-1.0944415 , -0.19785214, -1.13959568,  1.3460348 ],\n",
              "       [ 0.91370804, -1.44525616,  0.64833927,  0.29135523],\n",
              "       [-1.0944415 ,  0.28724943, -1.26730532, -1.29066412],\n",
              "       [ 0.91370804,  0.84165121, -1.43758484, -1.29066412],\n",
              "       [-1.0944415 , -1.44525616, -0.79903664,  0.29135523],\n",
              "       [ 0.91370804,  0.84165121, -1.0970258 , -1.29066412],\n",
              "       [-1.0944415 ,  0.77235099, -1.48015472, -1.29066412],\n",
              "       [-1.0944415 ,  0.2179492 ,  0.39291999,  1.3460348 ],\n",
              "       [ 0.91370804,  1.25745255, -1.13959568,  1.3460348 ],\n",
              "       [ 0.91370804, -1.23735549,  1.37202722, -0.49965444],\n",
              "       [ 0.91370804,  0.2179492 , -0.11791857,  1.3460348 ],\n",
              "       [-1.0944415 , -1.44525616, -1.56529448,  1.3460348 ],\n",
              "       [-1.0944415 , -0.47505303, -1.05445592,  1.3460348 ],\n",
              "       [-1.0944415 , -0.54435325, -1.26730532, -0.49965444],\n",
              "       [-1.0944415 , -1.44525616, -0.03277881,  1.3460348 ],\n",
              "       [-1.0944415 , -1.37595593,  1.71258626, -0.49965444],\n",
              "       [ 0.91370804, -0.75225392,  0.56319951,  0.29135523],\n",
              "       [ 0.91370804, -1.37595593,  1.6274465 , -0.49965444],\n",
              "       [ 0.91370804,  0.56445032,  1.32945734, -1.29066412],\n",
              "       [ 0.91370804,  0.01004853,  0.52062963, -0.49965444],\n",
              "       [ 0.91370804, -1.23735549,  1.24431758, -1.29066412],\n",
              "       [-1.0944415 , -0.47505303, -1.60786436,  0.29135523],\n",
              "       [-1.0944415 ,  1.46535322,  0.52062963, -0.49965444],\n",
              "       [ 0.91370804,  0.01004853,  0.43548987,  1.3460348 ],\n",
              "       [-1.0944415 ,  0.70305076, -0.4584776 ,  0.29135523],\n",
              "       [ 0.91370804,  0.07934876,  0.26521035,  1.3460348 ],\n",
              "       [-1.0944415 , -0.40575281,  0.26521035, -1.29066412],\n",
              "       [ 0.91370804, -1.65315683,  0.18007059,  0.29135523],\n",
              "       [-1.0944415 , -0.89085437, -1.3098752 ,  0.29135523],\n",
              "       [ 0.91370804,  0.42584987, -0.16048845,  0.29135523],\n",
              "       [ 0.91370804,  1.53465344, -1.18216556,  0.29135523],\n",
              "       [-1.0944415 ,  1.32675277,  0.73347903, -1.29066412],\n",
              "       [-1.0944415 , -1.51455638, -1.60786436,  1.3460348 ],\n",
              "       [-1.0944415 ,  1.396053  , -1.22473544,  0.29135523],\n",
              "       [-1.0944415 ,  0.07934876, -1.26730532, -1.29066412],\n",
              "       [-1.0944415 ,  0.07934876,  1.79772602, -0.49965444],\n",
              "       [-1.0944415 ,  0.2179492 , -0.8841764 , -1.29066412],\n",
              "       [ 0.91370804, -1.44525616, -1.43758484,  1.3460348 ],\n",
              "       [ 0.91370804, -1.23735549,  1.58487662,  1.3460348 ],\n",
              "       [ 0.91370804, -0.96015459,  1.03146818, -0.49965444],\n",
              "       [ 0.91370804, -0.12855191, -1.60786436,  0.29135523],\n",
              "       [-1.0944415 , -0.26715236, -0.75646676, -1.29066412],\n",
              "       [ 0.91370804, -0.82155415, -0.62875712, -1.29066412],\n",
              "       [-1.0944415 ,  0.77235099,  1.54230674,  0.29135523],\n",
              "       [-1.0944415 ,  1.46535322,  1.75515614,  1.3460348 ],\n",
              "       [ 0.91370804,  1.53465344,  1.45716698, -0.49965444],\n",
              "       [ 0.91370804, -0.61365348, -0.671327  , -0.49965444],\n",
              "       [ 0.91370804, -0.12855191, -1.18216556,  1.3460348 ],\n",
              "       [ 0.91370804, -1.44525616,  0.09493083, -0.49965444],\n",
              "       [ 0.91370804,  0.01004853, -0.07534869,  1.3460348 ],\n",
              "       [ 0.91370804, -1.65315683, -0.33076797, -1.29066412],\n",
              "       [ 0.91370804, -1.16805526,  1.4145971 ,  1.3460348 ],\n",
              "       [-1.0944415 , -0.12855191,  0.00979107,  1.3460348 ],\n",
              "       [-1.0944415 , -1.09875504, -0.71389688, -1.29066412],\n",
              "       [-1.0944415 ,  0.84165121,  1.49973686, -1.29066412],\n",
              "       [ 0.91370804,  1.18815233, -0.07534869, -1.29066412],\n",
              "       [-1.0944415 ,  0.98025166,  1.2017477 ,  0.29135523],\n",
              "       [-1.0944415 , -1.02945482,  0.90375855,  1.3460348 ],\n",
              "       [ 0.91370804,  1.18815233,  1.45716698, -1.29066412],\n",
              "       [ 0.91370804,  0.63375054,  1.54230674, -0.49965444],\n",
              "       [-1.0944415 , -0.96015459, -1.5227246 ,  0.29135523],\n",
              "       [ 0.91370804, -0.6829537 ,  1.79772602,  0.29135523],\n",
              "       [ 0.91370804, -0.61365348, -1.3098752 ,  0.29135523],\n",
              "       [ 0.91370804,  1.04955188, -0.8841764 , -0.49965444],\n",
              "       [-1.0944415 ,  0.2179492 ,  0.43548987, -1.29066412],\n",
              "       [-1.0944415 ,  1.1188521 ,  1.58487662,  1.3460348 ],\n",
              "       [ 0.91370804, -0.40575281, -1.48015472,  0.29135523],\n",
              "       [ 0.91370804,  1.32675277, -0.4584776 , -1.29066412]])"
            ]
          },
          "metadata": {},
          "execution_count": 23
        }
      ]
    },
    {
      "cell_type": "code",
      "source": [
        "from sklearn.neighbors import KNeighborsClassifier"
      ],
      "metadata": {
        "id": "7cUOympQ4mOt"
      },
      "execution_count": null,
      "outputs": []
    },
    {
      "cell_type": "code",
      "source": [
        "k=5\n",
        "knn=KNeighborsClassifier(n_neighbors=k)"
      ],
      "metadata": {
        "id": "Fsyq7eHy5AlJ"
      },
      "execution_count": null,
      "outputs": []
    },
    {
      "cell_type": "code",
      "source": [
        "knn.fit(X_train, y_train)"
      ],
      "metadata": {
        "colab": {
          "base_uri": "https://localhost:8080/",
          "height": 75
        },
        "id": "rvY495zW5WvL",
        "outputId": "8d61b849-55f1-4471-8b16-cba3b85728dd"
      },
      "execution_count": null,
      "outputs": [
        {
          "output_type": "execute_result",
          "data": {
            "text/plain": [
              "KNeighborsClassifier()"
            ],
            "text/html": [
              "<style>#sk-container-id-1 {color: black;background-color: white;}#sk-container-id-1 pre{padding: 0;}#sk-container-id-1 div.sk-toggleable {background-color: white;}#sk-container-id-1 label.sk-toggleable__label {cursor: pointer;display: block;width: 100%;margin-bottom: 0;padding: 0.3em;box-sizing: border-box;text-align: center;}#sk-container-id-1 label.sk-toggleable__label-arrow:before {content: \"▸\";float: left;margin-right: 0.25em;color: #696969;}#sk-container-id-1 label.sk-toggleable__label-arrow:hover:before {color: black;}#sk-container-id-1 div.sk-estimator:hover label.sk-toggleable__label-arrow:before {color: black;}#sk-container-id-1 div.sk-toggleable__content {max-height: 0;max-width: 0;overflow: hidden;text-align: left;background-color: #f0f8ff;}#sk-container-id-1 div.sk-toggleable__content pre {margin: 0.2em;color: black;border-radius: 0.25em;background-color: #f0f8ff;}#sk-container-id-1 input.sk-toggleable__control:checked~div.sk-toggleable__content {max-height: 200px;max-width: 100%;overflow: auto;}#sk-container-id-1 input.sk-toggleable__control:checked~label.sk-toggleable__label-arrow:before {content: \"▾\";}#sk-container-id-1 div.sk-estimator input.sk-toggleable__control:checked~label.sk-toggleable__label {background-color: #d4ebff;}#sk-container-id-1 div.sk-label input.sk-toggleable__control:checked~label.sk-toggleable__label {background-color: #d4ebff;}#sk-container-id-1 input.sk-hidden--visually {border: 0;clip: rect(1px 1px 1px 1px);clip: rect(1px, 1px, 1px, 1px);height: 1px;margin: -1px;overflow: hidden;padding: 0;position: absolute;width: 1px;}#sk-container-id-1 div.sk-estimator {font-family: monospace;background-color: #f0f8ff;border: 1px dotted black;border-radius: 0.25em;box-sizing: border-box;margin-bottom: 0.5em;}#sk-container-id-1 div.sk-estimator:hover {background-color: #d4ebff;}#sk-container-id-1 div.sk-parallel-item::after {content: \"\";width: 100%;border-bottom: 1px solid gray;flex-grow: 1;}#sk-container-id-1 div.sk-label:hover label.sk-toggleable__label {background-color: #d4ebff;}#sk-container-id-1 div.sk-serial::before {content: \"\";position: absolute;border-left: 1px solid gray;box-sizing: border-box;top: 0;bottom: 0;left: 50%;z-index: 0;}#sk-container-id-1 div.sk-serial {display: flex;flex-direction: column;align-items: center;background-color: white;padding-right: 0.2em;padding-left: 0.2em;position: relative;}#sk-container-id-1 div.sk-item {position: relative;z-index: 1;}#sk-container-id-1 div.sk-parallel {display: flex;align-items: stretch;justify-content: center;background-color: white;position: relative;}#sk-container-id-1 div.sk-item::before, #sk-container-id-1 div.sk-parallel-item::before {content: \"\";position: absolute;border-left: 1px solid gray;box-sizing: border-box;top: 0;bottom: 0;left: 50%;z-index: -1;}#sk-container-id-1 div.sk-parallel-item {display: flex;flex-direction: column;z-index: 1;position: relative;background-color: white;}#sk-container-id-1 div.sk-parallel-item:first-child::after {align-self: flex-end;width: 50%;}#sk-container-id-1 div.sk-parallel-item:last-child::after {align-self: flex-start;width: 50%;}#sk-container-id-1 div.sk-parallel-item:only-child::after {width: 0;}#sk-container-id-1 div.sk-dashed-wrapped {border: 1px dashed gray;margin: 0 0.4em 0.5em 0.4em;box-sizing: border-box;padding-bottom: 0.4em;background-color: white;}#sk-container-id-1 div.sk-label label {font-family: monospace;font-weight: bold;display: inline-block;line-height: 1.2em;}#sk-container-id-1 div.sk-label-container {text-align: center;}#sk-container-id-1 div.sk-container {/* jupyter's `normalize.less` sets `[hidden] { display: none; }` but bootstrap.min.css set `[hidden] { display: none !important; }` so we also need the `!important` here to be able to override the default hidden behavior on the sphinx rendered scikit-learn.org. See: https://github.com/scikit-learn/scikit-learn/issues/21755 */display: inline-block !important;position: relative;}#sk-container-id-1 div.sk-text-repr-fallback {display: none;}</style><div id=\"sk-container-id-1\" class=\"sk-top-container\"><div class=\"sk-text-repr-fallback\"><pre>KNeighborsClassifier()</pre><b>In a Jupyter environment, please rerun this cell to show the HTML representation or trust the notebook. <br />On GitHub, the HTML representation is unable to render, please try loading this page with nbviewer.org.</b></div><div class=\"sk-container\" hidden><div class=\"sk-item\"><div class=\"sk-estimator sk-toggleable\"><input class=\"sk-toggleable__control sk-hidden--visually\" id=\"sk-estimator-id-1\" type=\"checkbox\" checked><label for=\"sk-estimator-id-1\" class=\"sk-toggleable__label sk-toggleable__label-arrow\">KNeighborsClassifier</label><div class=\"sk-toggleable__content\"><pre>KNeighborsClassifier()</pre></div></div></div></div></div>"
            ]
          },
          "metadata": {},
          "execution_count": 26
        }
      ]
    },
    {
      "cell_type": "code",
      "source": [
        "y_pred=knn.predict(X_test)"
      ],
      "metadata": {
        "id": "W06iUhGRsvvh"
      },
      "execution_count": null,
      "outputs": []
    },
    {
      "cell_type": "code",
      "source": [
        "y_pred"
      ],
      "metadata": {
        "colab": {
          "base_uri": "https://localhost:8080/"
        },
        "id": "RZLWFzEh6WC2",
        "outputId": "db82030c-2805-4be3-ad62-9d7f8348fd51"
      },
      "execution_count": null,
      "outputs": [
        {
          "output_type": "execute_result",
          "data": {
            "text/plain": [
              "array([1, 0, 0, 0, 0, 1, 0, 0, 0, 0, 0, 0, 0, 1, 1, 1, 0, 0, 0, 1, 0, 0,\n",
              "       1, 1, 0, 0, 0, 0, 1, 1, 0, 1, 1, 0, 1, 1, 0, 1, 1, 1, 0, 0, 0, 0,\n",
              "       0, 0, 0, 1, 0, 0, 0, 0, 1, 0, 0, 0, 1, 0, 1, 0, 1, 1, 1, 1, 0, 0,\n",
              "       1, 1, 1, 0, 1, 1, 0, 0, 0, 0, 1, 0, 0, 1, 0, 1, 0, 1, 1, 0, 0, 0,\n",
              "       0, 0, 0, 0, 1, 0, 1, 0, 1, 1, 1, 1, 1, 1, 1, 1, 1, 1, 0, 0, 1, 0,\n",
              "       1, 0, 1, 1, 1, 0, 1, 1, 0, 1, 0, 0, 1, 0, 0, 1, 1, 0, 0, 0, 1, 1,\n",
              "       0, 1, 0, 0, 1, 1, 1, 0, 0, 1, 0, 0, 0, 1, 0, 1, 1, 1, 1, 1, 1, 0,\n",
              "       1, 0, 0, 0, 0, 0, 0, 1, 0, 1, 0, 1, 0, 1, 1, 0, 0, 1, 0, 1, 0, 1,\n",
              "       0, 1, 1, 0, 1, 0, 0, 0, 0, 1, 1, 0, 1, 0, 1, 1, 0, 1, 0, 0, 1, 0,\n",
              "       0, 0])"
            ]
          },
          "metadata": {},
          "execution_count": 28
        }
      ]
    },
    {
      "cell_type": "code",
      "source": [
        "from sklearn.metrics import accuracy_score"
      ],
      "metadata": {
        "id": "BOnr8brh6Yjg"
      },
      "execution_count": null,
      "outputs": []
    },
    {
      "cell_type": "code",
      "source": [
        "accuracy=accuracy_score(y_test,y_pred)"
      ],
      "metadata": {
        "id": "tHq4vNr961YG"
      },
      "execution_count": null,
      "outputs": []
    },
    {
      "cell_type": "code",
      "source": [
        "accuracy"
      ],
      "metadata": {
        "colab": {
          "base_uri": "https://localhost:8080/"
        },
        "id": "sSAzVlT37L5F",
        "outputId": "aa29d716-8fe1-4b61-ae42-884bbd6d874e"
      },
      "execution_count": null,
      "outputs": [
        {
          "output_type": "execute_result",
          "data": {
            "text/plain": [
              "0.765"
            ]
          },
          "metadata": {},
          "execution_count": 32
        }
      ]
    },
    {
      "cell_type": "code",
      "source": [
        "import pickle"
      ],
      "metadata": {
        "id": "Xe0eAECY9OJK"
      },
      "execution_count": null,
      "outputs": []
    },
    {
      "cell_type": "code",
      "source": [
        "with open('knn_model.pickle','wb') as f:\n",
        "  pickle.dump(knn,f)"
      ],
      "metadata": {
        "id": "HEz-knUh9RMz"
      },
      "execution_count": null,
      "outputs": []
    },
    {
      "cell_type": "code",
      "source": [
        "with open('scaler.pickle','wb') as f:\n",
        "  pickle.dump(scaler,f)"
      ],
      "metadata": {
        "id": "ruo1nOJl-v-f"
      },
      "execution_count": null,
      "outputs": []
    }
  ]
}